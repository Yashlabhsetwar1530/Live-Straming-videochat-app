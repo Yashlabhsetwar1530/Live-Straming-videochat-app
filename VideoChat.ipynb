#used for image processing 
import cv2

# used to communicate over a network
import socket

# used for array(image) processing
import numpy
#creating the socket
s=socket.socket() # default it takes IPV4 adress family and TCP protocol
print("~@"*10+"\t SOCKET CREAETED \t"+"~@"*10)

#binding ip and port
ip="" # to use IP associaited with this device
port=1234 # can be given any  free port within a valid range
s.bind((ip,port)) 
print("~@"*10+"\t BINDED ADDRESS WITH THIS PROGRAM  \t"+"~@"*10)

#listening and accepting the connection
s.listen(5)
c,addr=s.accept()
print("~@"*10+"\t CONNECTION ACCEPTED \t"+"~@"*10)
external="<URL>" # give URL of IPCamera app to use it as external camera
cap=cv2.VideoCapture(external) #caputring the content seen by external camera
while True:
    data=c.recv(100000000) 
    darray=numpy.frombuffer(data,numpy.uint8) #creating array of recevied data
    photo=cv2.imdecode(darray,cv2.IMREAD_COLOR) # decoding the video stream
    if type(photo)is type(None): #checking wheteher the image is None , if it is discarding it
        pass
    else:
        cv2.imshow("PersonA on video Call", photo) # displaying the window of videochat
        if cv2.waitKey(10)==13: #13 for enter key waits as long as enter key is pressed
            break #exiting
    r,photo=cap.read() 
    p_data=cv2.imencode('.jpg',photo)[1].tobytes() #encoding the data captured by the camera to send in packet
    c.sendall(p_data) # sending the data
cv2.destroyAllWindows() # closing the video chat window
cap.release() # releasing the camera
