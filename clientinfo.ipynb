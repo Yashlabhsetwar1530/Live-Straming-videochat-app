#used for image processing 
import cv2

# used to communicate over a network
import socket

# used for array(image) processing
import numpy
#creating the socket
s=socket.socket() # default it takes IPV4 adress family and TCP protocol
print("~@"*10+"\t SOCKET CREAETED \t"+"~@"*10)

#Connecting with server
ip="127.0.0.1" # IP of server
port=1234 # port of server program
s.connect((ip,port))
print("~@"*10+"\t CONNECTED WITH THE SERVER \t"+"~@"*10)
cap=cv2.VideoCapture(0) #caputring the content of inbilt camera 0->inbuilt/internal camera.
while True:
    r,photo=cap.read()
    p_data=cv2.imencode('.jpg',photo)[1].tobytes() #encoding the data captured by the camera to send in packet
    s.sendall(p_data) # sending the data

    data=s.recv(100000000)
    darray=numpy.frombuffer(data,numpy.uint8) #creating array of recevied data
    photo=cv2.imdecode(darray,cv2.IMREAD_COLOR) # decoding the video stream
    if type(photo)is type(None): #checking wheteher the image is None , if it is discarding it
        pass
    else:
        cv2.imshow("Person B on video Call", photo) # displaying the window of videochat
        if cv2.waitKey(10)==13: #13 for enter key waits as long as enter key is pressed
            break


cv2.destroyAllWindows() # closing the video chat window
cap.release() # releasing the camera
